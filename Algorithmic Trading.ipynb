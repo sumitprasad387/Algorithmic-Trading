{
  "cells": [
    {
      "cell_type": "markdown",
      "metadata": {
        "id": "Gx4J4Xnu0RjC"
      },
      "source": [
        "To build a network that can effectively predict stock prices is an unrealistic goal, but a fun challenge nevertheless. There are a few different paths one could take to build the model, and we shall start from the easy and then move on the challenging.\n",
        "I would like to test                   \n",
        "\n",
        "*   training on historic data of just 1 company v/s training on data of multiple companies of a sector\n",
        "*   try predicting pattern for different companies using models of other sectors(i.e. see if the patterns that the model memorizes work for all stocks, or stocks of that specific set of companies only.)\n",
        "*    train an nlp for sentiment analysis of news regarding a particular company, and correlate the effect it has on its stock price\n",
        "*    combine the multiple branches under one model and train it with reinforcement learning and make it self-sustaining by letting it automatically update information and train itself periodically.\n",
        "\n",
        "LETS GO!!!"
      ]
    },
    {
      "cell_type": "code",
      "execution_count": null,
      "metadata": {
        "id": "9tplfAVFkYHk"
      },
      "outputs": [],
      "source": [
        "#Start by importing necessary libraries\n",
        "import numpy as np\n",
        "import pandas as pd\n",
        "from tensorflow.keras.models import Sequential\n",
        "import math\n",
        "import matplotlib.pyplot as plt\n",
        "from sklearn.preprocessing import MinMaxScaler\n",
        "from tensorflow.keras.layers import Dense, LSTM, GRU\n",
        "plt.style.use('dark_background')"
      ]
    },
    {
      "cell_type": "markdown",
      "metadata": {
        "id": "sb6BoAzOxqa1"
      },
      "source": [
        "In this model, we shall test the effectivesness of training on just 1 company, and predicting stock value, while also testing if having 1 or multiple inputs has an effective change on the accuracy of our model."
      ]
    },
    {
      "cell_type": "code",
      "execution_count": null,
      "metadata": {
        "colab": {
          "base_uri": "https://localhost:8080/",
          "height": 780
        },
        "id": "QtZUVfhO2aH0",
        "outputId": "aeedc2f3-8cad-4edd-911d-10030e9f049b"
      },
      "outputs": [
        {
          "output_type": "execute_result",
          "data": {
            "text/plain": [
              "           Date  Open Price  High Price  Low Price  Close Price          WAP  \\\n",
              "0     01-Aug-02      327.00      331.70     321.00       323.30   325.180594   \n",
              "1     02-Aug-02      324.50      327.00     324.50       326.75   325.985878   \n",
              "2     05-Aug-02      325.00      332.25     322.50       330.40   329.184697   \n",
              "3     06-Aug-02      328.65      333.75     328.65       332.80   332.604433   \n",
              "4     07-Aug-02      332.00      333.95     330.00       332.20   331.998122   \n",
              "...         ...         ...         ...        ...          ...          ...   \n",
              "4966  26-Jul-22     3099.90     3149.95    3053.00      3107.60  3099.789458   \n",
              "4967  27-Jul-22     3138.00     3191.90    3097.80      3185.45  3145.272796   \n",
              "4968  28-Jul-22     3195.00     3279.50    3184.20      3263.20  3246.921921   \n",
              "4969  29-Jul-22     3280.00     3354.50    3276.75      3332.35  3321.617288   \n",
              "4970  01-Aug-22     3343.90     3355.00    3315.00      3323.75  3333.654602   \n",
              "\n",
              "      No.of Shares  No. of Trades  Total Turnover (Rs.)  Deliverable Quantity  \\\n",
              "0             3267            118               1062365                2385.0   \n",
              "1             1133             56                369342                1062.0   \n",
              "2             2274             79                748566                1187.0   \n",
              "3             1173             50                390145                1020.0   \n",
              "4             1597            144                530201                 829.0   \n",
              "...            ...            ...                   ...                   ...   \n",
              "4966        128929          11992             399652755               42942.0   \n",
              "4967         54330           5197             170882671               15804.0   \n",
              "4968         60631           4424             196864123               15432.0   \n",
              "4969         41786           4615             138797100               12846.0   \n",
              "4970        550794           3309            1836156953              533354.0   \n",
              "\n",
              "      % Deli. Qty to Traded Qty  Spread High-Low  Spread Close-Open  \n",
              "0                         73.00            10.70              -3.70  \n",
              "1                         93.73             2.50               2.25  \n",
              "2                         52.20             9.75               5.40  \n",
              "3                         86.96             5.10               4.15  \n",
              "4                         51.91             3.95               0.20  \n",
              "...                         ...              ...                ...  \n",
              "4966                      33.31            96.95               7.70  \n",
              "4967                      29.09            94.10              47.45  \n",
              "4968                      25.45            95.30              68.20  \n",
              "4969                      30.74            77.75              52.35  \n",
              "4970                      96.83            40.00             -20.15  \n",
              "\n",
              "[4971 rows x 13 columns]"
            ],
            "text/html": [
              "\n",
              "  <div id=\"df-f9c838db-60f8-4626-b89a-a9d87382a64a\">\n",
              "    <div class=\"colab-df-container\">\n",
              "      <div>\n",
              "<style scoped>\n",
              "    .dataframe tbody tr th:only-of-type {\n",
              "        vertical-align: middle;\n",
              "    }\n",
              "\n",
              "    .dataframe tbody tr th {\n",
              "        vertical-align: top;\n",
              "    }\n",
              "\n",
              "    .dataframe thead th {\n",
              "        text-align: right;\n",
              "    }\n",
              "</style>\n",
              "<table border=\"1\" class=\"dataframe\">\n",
              "  <thead>\n",
              "    <tr style=\"text-align: right;\">\n",
              "      <th></th>\n",
              "      <th>Date</th>\n",
              "      <th>Open Price</th>\n",
              "      <th>High Price</th>\n",
              "      <th>Low Price</th>\n",
              "      <th>Close Price</th>\n",
              "      <th>WAP</th>\n",
              "      <th>No.of Shares</th>\n",
              "      <th>No. of Trades</th>\n",
              "      <th>Total Turnover (Rs.)</th>\n",
              "      <th>Deliverable Quantity</th>\n",
              "      <th>% Deli. Qty to Traded Qty</th>\n",
              "      <th>Spread High-Low</th>\n",
              "      <th>Spread Close-Open</th>\n",
              "    </tr>\n",
              "  </thead>\n",
              "  <tbody>\n",
              "    <tr>\n",
              "      <th>0</th>\n",
              "      <td>01-Aug-02</td>\n",
              "      <td>327.00</td>\n",
              "      <td>331.70</td>\n",
              "      <td>321.00</td>\n",
              "      <td>323.30</td>\n",
              "      <td>325.180594</td>\n",
              "      <td>3267</td>\n",
              "      <td>118</td>\n",
              "      <td>1062365</td>\n",
              "      <td>2385.0</td>\n",
              "      <td>73.00</td>\n",
              "      <td>10.70</td>\n",
              "      <td>-3.70</td>\n",
              "    </tr>\n",
              "    <tr>\n",
              "      <th>1</th>\n",
              "      <td>02-Aug-02</td>\n",
              "      <td>324.50</td>\n",
              "      <td>327.00</td>\n",
              "      <td>324.50</td>\n",
              "      <td>326.75</td>\n",
              "      <td>325.985878</td>\n",
              "      <td>1133</td>\n",
              "      <td>56</td>\n",
              "      <td>369342</td>\n",
              "      <td>1062.0</td>\n",
              "      <td>93.73</td>\n",
              "      <td>2.50</td>\n",
              "      <td>2.25</td>\n",
              "    </tr>\n",
              "    <tr>\n",
              "      <th>2</th>\n",
              "      <td>05-Aug-02</td>\n",
              "      <td>325.00</td>\n",
              "      <td>332.25</td>\n",
              "      <td>322.50</td>\n",
              "      <td>330.40</td>\n",
              "      <td>329.184697</td>\n",
              "      <td>2274</td>\n",
              "      <td>79</td>\n",
              "      <td>748566</td>\n",
              "      <td>1187.0</td>\n",
              "      <td>52.20</td>\n",
              "      <td>9.75</td>\n",
              "      <td>5.40</td>\n",
              "    </tr>\n",
              "    <tr>\n",
              "      <th>3</th>\n",
              "      <td>06-Aug-02</td>\n",
              "      <td>328.65</td>\n",
              "      <td>333.75</td>\n",
              "      <td>328.65</td>\n",
              "      <td>332.80</td>\n",
              "      <td>332.604433</td>\n",
              "      <td>1173</td>\n",
              "      <td>50</td>\n",
              "      <td>390145</td>\n",
              "      <td>1020.0</td>\n",
              "      <td>86.96</td>\n",
              "      <td>5.10</td>\n",
              "      <td>4.15</td>\n",
              "    </tr>\n",
              "    <tr>\n",
              "      <th>4</th>\n",
              "      <td>07-Aug-02</td>\n",
              "      <td>332.00</td>\n",
              "      <td>333.95</td>\n",
              "      <td>330.00</td>\n",
              "      <td>332.20</td>\n",
              "      <td>331.998122</td>\n",
              "      <td>1597</td>\n",
              "      <td>144</td>\n",
              "      <td>530201</td>\n",
              "      <td>829.0</td>\n",
              "      <td>51.91</td>\n",
              "      <td>3.95</td>\n",
              "      <td>0.20</td>\n",
              "    </tr>\n",
              "    <tr>\n",
              "      <th>...</th>\n",
              "      <td>...</td>\n",
              "      <td>...</td>\n",
              "      <td>...</td>\n",
              "      <td>...</td>\n",
              "      <td>...</td>\n",
              "      <td>...</td>\n",
              "      <td>...</td>\n",
              "      <td>...</td>\n",
              "      <td>...</td>\n",
              "      <td>...</td>\n",
              "      <td>...</td>\n",
              "      <td>...</td>\n",
              "      <td>...</td>\n",
              "    </tr>\n",
              "    <tr>\n",
              "      <th>4966</th>\n",
              "      <td>26-Jul-22</td>\n",
              "      <td>3099.90</td>\n",
              "      <td>3149.95</td>\n",
              "      <td>3053.00</td>\n",
              "      <td>3107.60</td>\n",
              "      <td>3099.789458</td>\n",
              "      <td>128929</td>\n",
              "      <td>11992</td>\n",
              "      <td>399652755</td>\n",
              "      <td>42942.0</td>\n",
              "      <td>33.31</td>\n",
              "      <td>96.95</td>\n",
              "      <td>7.70</td>\n",
              "    </tr>\n",
              "    <tr>\n",
              "      <th>4967</th>\n",
              "      <td>27-Jul-22</td>\n",
              "      <td>3138.00</td>\n",
              "      <td>3191.90</td>\n",
              "      <td>3097.80</td>\n",
              "      <td>3185.45</td>\n",
              "      <td>3145.272796</td>\n",
              "      <td>54330</td>\n",
              "      <td>5197</td>\n",
              "      <td>170882671</td>\n",
              "      <td>15804.0</td>\n",
              "      <td>29.09</td>\n",
              "      <td>94.10</td>\n",
              "      <td>47.45</td>\n",
              "    </tr>\n",
              "    <tr>\n",
              "      <th>4968</th>\n",
              "      <td>28-Jul-22</td>\n",
              "      <td>3195.00</td>\n",
              "      <td>3279.50</td>\n",
              "      <td>3184.20</td>\n",
              "      <td>3263.20</td>\n",
              "      <td>3246.921921</td>\n",
              "      <td>60631</td>\n",
              "      <td>4424</td>\n",
              "      <td>196864123</td>\n",
              "      <td>15432.0</td>\n",
              "      <td>25.45</td>\n",
              "      <td>95.30</td>\n",
              "      <td>68.20</td>\n",
              "    </tr>\n",
              "    <tr>\n",
              "      <th>4969</th>\n",
              "      <td>29-Jul-22</td>\n",
              "      <td>3280.00</td>\n",
              "      <td>3354.50</td>\n",
              "      <td>3276.75</td>\n",
              "      <td>3332.35</td>\n",
              "      <td>3321.617288</td>\n",
              "      <td>41786</td>\n",
              "      <td>4615</td>\n",
              "      <td>138797100</td>\n",
              "      <td>12846.0</td>\n",
              "      <td>30.74</td>\n",
              "      <td>77.75</td>\n",
              "      <td>52.35</td>\n",
              "    </tr>\n",
              "    <tr>\n",
              "      <th>4970</th>\n",
              "      <td>01-Aug-22</td>\n",
              "      <td>3343.90</td>\n",
              "      <td>3355.00</td>\n",
              "      <td>3315.00</td>\n",
              "      <td>3323.75</td>\n",
              "      <td>3333.654602</td>\n",
              "      <td>550794</td>\n",
              "      <td>3309</td>\n",
              "      <td>1836156953</td>\n",
              "      <td>533354.0</td>\n",
              "      <td>96.83</td>\n",
              "      <td>40.00</td>\n",
              "      <td>-20.15</td>\n",
              "    </tr>\n",
              "  </tbody>\n",
              "</table>\n",
              "<p>4971 rows × 13 columns</p>\n",
              "</div>\n",
              "      <button class=\"colab-df-convert\" onclick=\"convertToInteractive('df-f9c838db-60f8-4626-b89a-a9d87382a64a')\"\n",
              "              title=\"Convert this dataframe to an interactive table.\"\n",
              "              style=\"display:none;\">\n",
              "        \n",
              "  <svg xmlns=\"http://www.w3.org/2000/svg\" height=\"24px\"viewBox=\"0 0 24 24\"\n",
              "       width=\"24px\">\n",
              "    <path d=\"M0 0h24v24H0V0z\" fill=\"none\"/>\n",
              "    <path d=\"M18.56 5.44l.94 2.06.94-2.06 2.06-.94-2.06-.94-.94-2.06-.94 2.06-2.06.94zm-11 1L8.5 8.5l.94-2.06 2.06-.94-2.06-.94L8.5 2.5l-.94 2.06-2.06.94zm10 10l.94 2.06.94-2.06 2.06-.94-2.06-.94-.94-2.06-.94 2.06-2.06.94z\"/><path d=\"M17.41 7.96l-1.37-1.37c-.4-.4-.92-.59-1.43-.59-.52 0-1.04.2-1.43.59L10.3 9.45l-7.72 7.72c-.78.78-.78 2.05 0 2.83L4 21.41c.39.39.9.59 1.41.59.51 0 1.02-.2 1.41-.59l7.78-7.78 2.81-2.81c.8-.78.8-2.07 0-2.86zM5.41 20L4 18.59l7.72-7.72 1.47 1.35L5.41 20z\"/>\n",
              "  </svg>\n",
              "      </button>\n",
              "      \n",
              "  <style>\n",
              "    .colab-df-container {\n",
              "      display:flex;\n",
              "      flex-wrap:wrap;\n",
              "      gap: 12px;\n",
              "    }\n",
              "\n",
              "    .colab-df-convert {\n",
              "      background-color: #E8F0FE;\n",
              "      border: none;\n",
              "      border-radius: 50%;\n",
              "      cursor: pointer;\n",
              "      display: none;\n",
              "      fill: #1967D2;\n",
              "      height: 32px;\n",
              "      padding: 0 0 0 0;\n",
              "      width: 32px;\n",
              "    }\n",
              "\n",
              "    .colab-df-convert:hover {\n",
              "      background-color: #E2EBFA;\n",
              "      box-shadow: 0px 1px 2px rgba(60, 64, 67, 0.3), 0px 1px 3px 1px rgba(60, 64, 67, 0.15);\n",
              "      fill: #174EA6;\n",
              "    }\n",
              "\n",
              "    [theme=dark] .colab-df-convert {\n",
              "      background-color: #3B4455;\n",
              "      fill: #D2E3FC;\n",
              "    }\n",
              "\n",
              "    [theme=dark] .colab-df-convert:hover {\n",
              "      background-color: #434B5C;\n",
              "      box-shadow: 0px 1px 3px 1px rgba(0, 0, 0, 0.15);\n",
              "      filter: drop-shadow(0px 1px 2px rgba(0, 0, 0, 0.3));\n",
              "      fill: #FFFFFF;\n",
              "    }\n",
              "  </style>\n",
              "\n",
              "      <script>\n",
              "        const buttonEl =\n",
              "          document.querySelector('#df-f9c838db-60f8-4626-b89a-a9d87382a64a button.colab-df-convert');\n",
              "        buttonEl.style.display =\n",
              "          google.colab.kernel.accessAllowed ? 'block' : 'none';\n",
              "\n",
              "        async function convertToInteractive(key) {\n",
              "          const element = document.querySelector('#df-f9c838db-60f8-4626-b89a-a9d87382a64a');\n",
              "          const dataTable =\n",
              "            await google.colab.kernel.invokeFunction('convertToInteractive',\n",
              "                                                     [key], {});\n",
              "          if (!dataTable) return;\n",
              "\n",
              "          const docLinkHtml = 'Like what you see? Visit the ' +\n",
              "            '<a target=\"_blank\" href=https://colab.research.google.com/notebooks/data_table.ipynb>data table notebook</a>'\n",
              "            + ' to learn more about interactive tables.';\n",
              "          element.innerHTML = '';\n",
              "          dataTable['output_type'] = 'display_data';\n",
              "          await google.colab.output.renderOutput(dataTable, element);\n",
              "          const docLink = document.createElement('div');\n",
              "          docLink.innerHTML = docLinkHtml;\n",
              "          element.appendChild(docLink);\n",
              "        }\n",
              "      </script>\n",
              "    </div>\n",
              "  </div>\n",
              "  "
            ]
          },
          "metadata": {},
          "execution_count": 2
        }
      ],
      "source": [
        "#import data of company\n",
        "company_data = pd.read_csv('ASIAN PAINTS.csv')\n",
        "company_data"
      ]
    },
    {
      "cell_type": "code",
      "execution_count": null,
      "metadata": {
        "colab": {
          "base_uri": "https://localhost:8080/",
          "height": 639
        },
        "id": "8f7gsxhyMt4i",
        "outputId": "e02bcd48-0067-4518-de06-574398da7c6a"
      },
      "outputs": [
        {
          "output_type": "execute_result",
          "data": {
            "text/plain": [
              "[<matplotlib.lines.Line2D at 0x7fb9017e1290>,\n",
              " <matplotlib.lines.Line2D at 0x7fb9017e1450>]"
            ]
          },
          "metadata": {},
          "execution_count": 4
        },
        {
          "output_type": "display_data",
          "data": {
            "text/plain": [
              "<Figure size 1440x720 with 1 Axes>"
            ],
            "image/png": "[encoded data removed]"
          },
          "metadata": {}
        }
      ],
      "source": [
        "t = range(len(company_data))\n",
        "plt.figure(figsize=(20,10))\n",
        "plt.title('FCONSUMER')\n",
        "plt.plot(t, company_data['Spread High-Low'], t, company_data['Spread Close-Open'])"
      ]
    },
    {
      "cell_type": "code",
      "execution_count": null,
      "metadata": {
        "colab": {
          "base_uri": "https://localhost:8080/"
        },
        "id": "R-0LCgyeQHQZ",
        "outputId": "c3eda2a1-0f01-4714-f897-65a9907ff3ad"
      },
      "outputs": [
        {
          "output_type": "execute_result",
          "data": {
            "text/plain": [
              "array([-5.85])"
            ]
          },
          "metadata": {},
          "execution_count": 48
        }
      ],
      "source": [
        "#We now create a new dataframe with only close price\n",
        "close_data = company_data.filter(['Spread Close-Open'])\n",
        "#Create another dataframe with multiple inputs\n",
        "multi_data = company_data.filter(['WAP', 'No.of Shares', 'No. of Trades', 'Spread High-Low', 'Spread Close-Open'])\n",
        "#convert to numpy array\n",
        "dataset_close = close_data.values\n",
        "dataset_multi = multi_data.values\n",
        "#now divide data into training(90%) and testing(10%)\n",
        "training_data_len = math.ceil(len(dataset_close)*0.9)#only integer values allowed\n",
        "dataset_close[training_data_len]"
      ]
    },
    {
      "cell_type": "code",
      "execution_count": null,
      "metadata": {
        "colab": {
          "base_uri": "https://localhost:8080/"
        },
        "id": "CPN2OWILRyS3",
        "outputId": "40a33188-e2d7-41be-8c0b-b20553bed9eb"
      },
      "outputs": [
        {
          "output_type": "execute_result",
          "data": {
            "text/plain": [
              "array([[ -3.7 ],\n",
              "       [  2.25],\n",
              "       [  5.4 ],\n",
              "       ...,\n",
              "       [ 68.2 ],\n",
              "       [ 52.35],\n",
              "       [-20.15]])"
            ]
          },
          "metadata": {},
          "execution_count": 117
        }
      ],
      "source": [
        "#Scale the data to (0,1)\n",
        "scaler = MinMaxScaler(feature_range=(0,1))\n",
        "multi_scaler = MinMaxScaler(feature_range=(0,1))\n",
        "scaled_data = dataset_close\n",
        "multi_scaled = multi_scaler.fit_transform(dataset_multi)\n",
        "scaled_data"
      ]
    },
    {
      "cell_type": "markdown",
      "metadata": {
        "id": "3ebNWCTP7vb5"
      },
      "source": [
        "First lets build and train the single input model"
      ]
    },
    {
      "cell_type": "code",
      "execution_count": null,
      "metadata": {
        "id": "FQoE1HfMbK01"
      },
      "outputs": [],
      "source": [
        "#create training and testing dataset\n",
        "train_data = scaled_data[:training_data_len, :]\n",
        "\n",
        "#split training_data into x_train and y_train i.e. input and output\n",
        "x_train = []\n",
        "y_train = []\n",
        "#Using past 50 days prices as input\n",
        "for i in range(100, len(train_data)):\n",
        "    x_train.append(train_data[i-100:i, 0])\n",
        "    y_train.append(train_data[i, 0])\n",
        "#    if i<=52:\n",
        "#        print(x_train)\n",
        "#        print(y_train)"
      ]
    },
    {
      "cell_type": "code",
      "execution_count": null,
      "metadata": {
        "colab": {
          "base_uri": "https://localhost:8080/"
        },
        "id": "LZNfDpWGcfcU",
        "outputId": "e1acecdb-6132-46ab-b51e-c12677d3a135"
      },
      "outputs": [
        {
          "output_type": "execute_result",
          "data": {
            "text/plain": [
              "(4374, 100, 1)"
            ]
          },
          "metadata": {},
          "execution_count": 119
        }
      ],
      "source": [
        "#Convert to numpy arrays\n",
        "x_train, y_train = np.array(x_train), np.array(y_train)\n",
        "\n",
        "#Reshape the data so that it can be usesd by keras\n",
        "x_train = np.reshape(x_train, (x_train.shape[0], x_train.shape[1], 1))\n",
        "x_train.shape"
      ]
    },
    {
      "cell_type": "code",
      "execution_count": null,
      "metadata": {
        "id": "_sIKN71_dPJx"
      },
      "outputs": [],
      "source": [
        "#Building the LSTM model\n",
        "model = Sequential()\n",
        "model.add(GRU(50, return_sequences=True, batch_input_shape=(6, x_train.shape[1], 1), stateful=True))\n",
        "model.add(GRU(75, return_sequences=False, stateful=True))\n",
        "model.add(Dense(50))\n",
        "model.add(Dense(1))\n"
      ]
    },
    {
      "cell_type": "code",
      "execution_count": null,
      "metadata": {
        "id": "Mx4prnGieqkk"
      },
      "outputs": [],
      "source": [
        "#Compile the model\n",
        "model.compile(optimizer='adam', loss='mean_squared_error')"
      ]
    },
    {
      "cell_type": "code",
      "execution_count": null,
      "metadata": {
        "colab": {
          "base_uri": "https://localhost:8080/"
        },
        "id": "2gwemFE1fOjY",
        "outputId": "7cff21c9-08fa-467a-fc4c-2856a243bc7e"
      },
      "outputs": [
        {
          "output_type": "stream",
          "name": "stdout",
          "text": [
            "Epoch 1/4\n",
            "729/729 [==============================] - 51s 65ms/step - loss: 772.3735\n",
            "Epoch 2/4\n",
            "729/729 [==============================] - 44s 61ms/step - loss: 768.9515\n",
            "Epoch 3/4\n",
            "729/729 [==============================] - 45s 61ms/step - loss: 769.8320\n",
            "Epoch 4/4\n",
            "729/729 [==============================] - 43s 59ms/step - loss: 764.8583\n",
            "Time taken to print the model = 205.21136450767517\n"
          ]
        }
      ],
      "source": [
        "#Train the model and time it\n",
        "import time\n",
        "start = time.time()\n",
        "model.fit(x_train, y_train,batch_size=6, epochs=4)\n",
        "end = time.time()\n",
        "print(f'Time taken to print the model = {end-start}')"
      ]
    },
    {
      "cell_type": "code",
      "execution_count": null,
      "metadata": {
        "colab": {
          "base_uri": "https://localhost:8080/"
        },
        "id": "KZdFMi_Yf_p4",
        "outputId": "7d1b1026-3148-4ecc-b56b-5a115e66504e"
      },
      "outputs": [
        {
          "output_type": "execute_result",
          "data": {
            "text/plain": [
              "(1, 100, 1)"
            ]
          },
          "metadata": {},
          "execution_count": 123
        }
      ],
      "source": [
        "#Lets test the model\n",
        "test_data = scaled_data[training_data_len-100:training_data_len, :]\n",
        "x_test = test_data[:100]\n",
        "y_test = dataset_close[training_data_len: ,:]\n",
        "\n",
        "#for i in range(100, len(test_data)):\n",
        "#    x_test.append(test_data[i-100:i, 0])\n",
        "\n",
        "#Convert to numpy array\n",
        "x_test = np.array(x_test)\n",
        "\n",
        "#Reshape data\n",
        "#x_test = np.reshape(x_test, (x_test.shape[0], x_test.shape[1], 1))\n",
        "x_test = np.reshape(x_test, (1, 100, 1))\n",
        "x_test.shape"
      ]
    },
    {
      "cell_type": "code",
      "execution_count": null,
      "metadata": {
        "id": "RW0pUUqhpFUh"
      },
      "outputs": [],
      "source": [
        "#Get model predictions\n",
        "for i in range(len(y_test)):\n",
        "    predictions = model.predict(x_test[-100:, 0])\n",
        "    predictions = np.array([predictions])\n",
        "    x_test = np.append(x_test, predictions, axis=1)"
      ]
    },
    {
      "cell_type": "code",
      "execution_count": null,
      "metadata": {
        "colab": {
          "base_uri": "https://localhost:8080/"
        },
        "id": "EAkVJCsVO-4r",
        "outputId": "7b5d92a5-26ed-4f27-eb28-d1859a7d9464"
      },
      "outputs": [
        {
          "output_type": "execute_result",
          "data": {
            "text/plain": [
              "(1, 6064, 1)"
            ]
          },
          "metadata": {},
          "execution_count": 132
        }
      ],
      "source": [
        "x_test.shape"
      ]
    },
    {
      "cell_type": "code",
      "execution_count": null,
      "metadata": {
        "colab": {
          "base_uri": "https://localhost:8080/"
        },
        "id": "ms38sJcNqzG9",
        "outputId": "bb2b9b5b-6738-47a9-f27c-4021acd5e21a"
      },
      "outputs": [
        {
          "output_type": "execute_result",
          "data": {
            "text/plain": [
              "23592152.43890368"
            ]
          },
          "metadata": {},
          "execution_count": 133
        }
      ],
      "source": [
        "#Rescale the predictions\n",
        "predictions = np.reshape(x_test, (-1, 1))\n",
        "#Get Error\n",
        "error = np.sqrt(np.mean(((predictions[:len(y_test)]-y_test)**2)))\n",
        "error"
      ]
    },
    {
      "cell_type": "code",
      "source": [
        "predictions[:5]"
      ],
      "metadata": {
        "colab": {
          "base_uri": "https://localhost:8080/"
        },
        "id": "rEDKQcJTYpW1",
        "outputId": "cc00764a-f34e-44c5-bfc3-dc5584075624"
      },
      "execution_count": null,
      "outputs": [
        {
          "output_type": "execute_result",
          "data": {
            "text/plain": [
              "array([[ 3423.75],\n",
              "       [-3399.  ],\n",
              "       [ 6767.2 ],\n",
              "       [-6656.15],\n",
              "       [ 9832.4 ]])"
            ]
          },
          "metadata": {},
          "execution_count": 134
        }
      ]
    },
    {
      "cell_type": "code",
      "source": [
        "for i in range(len(predictions)):\n",
        "    if i==0:\n",
        "        predictions[i] = predictions[i]+1717.15\n",
        "    else:\n",
        "        predictions[i] = predictions[i]-predictions[i-1]+1717.15\n",
        "predictions[:5]"
      ],
      "metadata": {
        "colab": {
          "base_uri": "https://localhost:8080/"
        },
        "id": "tFAoxEAEQmJK",
        "outputId": "ca800b5f-0905-4489-d279-f8441f07287b"
      },
      "execution_count": null,
      "outputs": [
        {
          "output_type": "execute_result",
          "data": {
            "text/plain": [
              "array([[  5140.9 ],\n",
              "       [ -6822.75],\n",
              "       [ 15307.1 ],\n",
              "       [-20246.1 ],\n",
              "       [ 31795.65]])"
            ]
          },
          "metadata": {},
          "execution_count": 135
        }
      ]
    },
    {
      "cell_type": "code",
      "source": [
        "close_data = company_data.filter(['Close Price'])\n",
        "dataset = close_data.values"
      ],
      "metadata": {
        "id": "2BNmoosQSkkV"
      },
      "execution_count": null,
      "outputs": []
    },
    {
      "cell_type": "code",
      "source": [
        "new_list = []\n",
        "for i in range(10):\n",
        "    new_list.append(predictions[i])"
      ],
      "metadata": {
        "id": "s_EaH-xBUCxW"
      },
      "execution_count": null,
      "outputs": []
    },
    {
      "cell_type": "code",
      "execution_count": null,
      "metadata": {
        "colab": {
          "base_uri": "https://localhost:8080/",
          "height": 499
        },
        "id": "K4KNqH7mpbjI",
        "outputId": "90afe544-8ff2-40cd-e58a-617815af2054"
      },
      "outputs": [
        {
          "output_type": "display_data",
          "data": {
            "text/plain": [
              "<Figure size 1440x576 with 1 Axes>"
            ],
            "image/png": "[encoded data removed]"
          },
          "metadata": {}
        }
      ],
      "source": [
        "#plot the prediction v/s actual prices\n",
        "#y_train = scaler.inverse_transform(y_train)\n",
        "#trainplt = close_data[:training_data_len]\n",
        "testplt = dataset[training_data_len:training_data_len+10]\n",
        "predplt = new_list\n",
        "#Visualize\n",
        "plt.figure(figsize=(20, 8))\n",
        "plt.title('Final Plot for Company-Single Input')\n",
        "plt.xlabel('Timeline')\n",
        "plt.ylabel('Closing Price')\n",
        "plt.plot(predplt)\n",
        "plt.plot(testplt)\n",
        "plt.legend(['Test', 'Prediction'], loc='lower right')\n",
        "plt.show()"
      ]
    },
    {
      "cell_type": "code",
      "execution_count": null,
      "metadata": {
        "colab": {
          "base_uri": "https://localhost:8080/"
        },
        "id": "dXXOSysnPjdd",
        "outputId": "7e0eb998-6571-4ce5-95cf-38c11aa9681d"
      },
      "outputs": [
        {
          "output_type": "stream",
          "name": "stdout",
          "text": [
            "15\n"
          ]
        }
      ],
      "source": [
        "#reasonable estimate\n",
        "days=0\n",
        "for i in np.sqrt((predictions[:len(y_test)]-y_test)**2):\n",
        "    if i<1:\n",
        "        days+=1\n",
        "print(days)"
      ]
    },
    {
      "cell_type": "code",
      "execution_count": null,
      "metadata": {
        "colab": {
          "base_uri": "https://localhost:8080/"
        },
        "id": "-2oU1fd08VTK",
        "outputId": "baa1a2f8-47cc-4b4b-85b3-65c3b3a7891a"
      },
      "outputs": [
        {
          "output_type": "stream",
          "name": "stderr",
          "text": [
            "WARNING:absl:Found untraced functions such as gru_cell_4_layer_call_fn, gru_cell_4_layer_call_and_return_conditional_losses, gru_cell_5_layer_call_fn, gru_cell_5_layer_call_and_return_conditional_losses while saving (showing 4 of 4). These functions will not be directly callable after loading.\n",
            "WARNING:absl:<keras.layers.recurrent.GRUCell object at 0x7f87da590f90> has the same name 'GRUCell' as a built-in Keras object. Consider renaming <class 'keras.layers.recurrent.GRUCell'> to avoid naming conflicts when loading with `tf.keras.models.load_model`. If renaming is not possible, pass the object in the `custom_objects` parameter of the load function.\n",
            "WARNING:absl:<keras.layers.recurrent.GRUCell object at 0x7f87da51f6d0> has the same name 'GRUCell' as a built-in Keras object. Consider renaming <class 'keras.layers.recurrent.GRUCell'> to avoid naming conflicts when loading with `tf.keras.models.load_model`. If renaming is not possible, pass the object in the `custom_objects` parameter of the load function.\n"
          ]
        }
      ],
      "source": [
        "model.save('Single input model')"
      ]
    }
  ],
  "metadata": {
    "colab": {
      "provenance": []
    },
    "kernelspec": {
      "display_name": "Python 3",
      "name": "python3"
    },
    "language_info": {
      "name": "python"
    }
  },
  "nbformat": 4,
  "nbformat_minor": 0
}